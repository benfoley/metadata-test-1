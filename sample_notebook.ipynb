{
  "cells": [
    {
      "cell_type": "code",
      "execution_count": null,
      "id": "460273bc-14b3-4ed9-9f84-ee9c10667c15",
      "metadata": {
        "pycharm": {
          "is_executing": true,
          "name": "#%%\n"
        }
      },
      "outputs": [],
      "source": [
        "print(\"hi\")"
      ]
    }
  ],
  "metadata": {
    "random-info": {
      "juice": "orange"
    },
    "creators": [
      {
        "orcid": "232",
        "name": "ben"
      }
    ],
    "kernelspec": {
      "display_name": "Python 3 (ipykernel)",
      "language": "python",
      "name": "python3"
    },
    "language_info": {
      "codemirror_mode": {
        "name": "ipython",
        "version": 3
      },
      "file_extension": ".py",
      "mimetype": "text/x-python",
      "name": "python",
      "nbconvert_exporter": "python",
      "pygments_lexer": "ipython3",
      "version": "3.9.12"
    },
    "title": "my super notebook",
    "ro-crate": {
      "@context": "https://w3id.org/ro/crate/1.1/context",
      "@graph": [
        {
          "@id": "./",
          "@type": "Dataset",
          "datePublished": "2022-08-05T02:01:44+00:00",
          "hasPart": [
            {
              "@id": "sample_notebook.ipynb"
            }
          ]
        },
        {
          "@id": "ro-crate-metadata.json",
          "@type": "CreativeWork",
          "about": {
            "@id": "./"
          },
          "conformsTo": {
            "@id": "https://w3id.org/ro/crate/1.1"
          }
        },
        {
          "@id": "sample_notebook.ipynb",
          "@type": "File",
          "author": [
            {
              "@id": "#232"
            }
          ],
          "encodingFormat": "application/x-ipynb+json",
          "name": "sample_notebook.ipynb",
          "title": "my super notebook"
        },
        {
          "@id": "#232",
          "@type": "Person",
          "name": "ben"
        }
      ]
    }
  },
  "nbformat": 4,
  "nbformat_minor": 5
}